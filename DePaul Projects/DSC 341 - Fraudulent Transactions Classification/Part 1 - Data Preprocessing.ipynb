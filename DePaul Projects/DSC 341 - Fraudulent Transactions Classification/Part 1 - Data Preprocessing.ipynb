{
 "cells": [
  {
   "cell_type": "code",
   "execution_count": 1,
   "metadata": {},
   "outputs": [],
   "source": [
    "import pandas as pd\n",
    "import numpy as np\n",
    "import matplotlib.pyplot as plt\n",
    "import seaborn as sns\n",
    "import missingno as msno\n",
    "from scipy import stats\n",
    "from sklearn.preprocessing import OneHotEncoder\n",
    "from sklearn.impute import SimpleImputer\n",
    "from datetime import datetime"
   ]
  },
  {
   "cell_type": "markdown",
   "metadata": {},
   "source": [
    "### Loading the dataset"
   ]
  },
  {
   "cell_type": "code",
   "execution_count": 2,
   "metadata": {},
   "outputs": [
    {
     "data": {
      "text/html": [
       "<div>\n",
       "<style scoped>\n",
       "    .dataframe tbody tr th:only-of-type {\n",
       "        vertical-align: middle;\n",
       "    }\n",
       "\n",
       "    .dataframe tbody tr th {\n",
       "        vertical-align: top;\n",
       "    }\n",
       "\n",
       "    .dataframe thead th {\n",
       "        text-align: right;\n",
       "    }\n",
       "</style>\n",
       "<table border=\"1\" class=\"dataframe\">\n",
       "  <thead>\n",
       "    <tr style=\"text-align: right;\">\n",
       "      <th></th>\n",
       "      <th>accountNumber</th>\n",
       "      <th>customerId</th>\n",
       "      <th>creditLimit</th>\n",
       "      <th>availableMoney</th>\n",
       "      <th>transactionDateTime</th>\n",
       "      <th>transactionAmount</th>\n",
       "      <th>merchantName</th>\n",
       "      <th>acqCountry</th>\n",
       "      <th>merchantCountryCode</th>\n",
       "      <th>posEntryMode</th>\n",
       "      <th>...</th>\n",
       "      <th>echoBuffer</th>\n",
       "      <th>currentBalance</th>\n",
       "      <th>merchantCity</th>\n",
       "      <th>merchantState</th>\n",
       "      <th>merchantZip</th>\n",
       "      <th>cardPresent</th>\n",
       "      <th>posOnPremises</th>\n",
       "      <th>recurringAuthInd</th>\n",
       "      <th>expirationDateKeyInMatch</th>\n",
       "      <th>isFraud</th>\n",
       "    </tr>\n",
       "  </thead>\n",
       "  <tbody>\n",
       "    <tr>\n",
       "      <th>0</th>\n",
       "      <td>737265056</td>\n",
       "      <td>737265056</td>\n",
       "      <td>5000</td>\n",
       "      <td>5000.0</td>\n",
       "      <td>2016-08-13T14:27:32</td>\n",
       "      <td>98.55</td>\n",
       "      <td>Uber</td>\n",
       "      <td>US</td>\n",
       "      <td>US</td>\n",
       "      <td>02</td>\n",
       "      <td>...</td>\n",
       "      <td></td>\n",
       "      <td>0.0</td>\n",
       "      <td></td>\n",
       "      <td></td>\n",
       "      <td></td>\n",
       "      <td>False</td>\n",
       "      <td></td>\n",
       "      <td></td>\n",
       "      <td>False</td>\n",
       "      <td>False</td>\n",
       "    </tr>\n",
       "    <tr>\n",
       "      <th>1</th>\n",
       "      <td>737265056</td>\n",
       "      <td>737265056</td>\n",
       "      <td>5000</td>\n",
       "      <td>5000.0</td>\n",
       "      <td>2016-10-11T05:05:54</td>\n",
       "      <td>74.51</td>\n",
       "      <td>AMC #191138</td>\n",
       "      <td>US</td>\n",
       "      <td>US</td>\n",
       "      <td>09</td>\n",
       "      <td>...</td>\n",
       "      <td></td>\n",
       "      <td>0.0</td>\n",
       "      <td></td>\n",
       "      <td></td>\n",
       "      <td></td>\n",
       "      <td>True</td>\n",
       "      <td></td>\n",
       "      <td></td>\n",
       "      <td>False</td>\n",
       "      <td>False</td>\n",
       "    </tr>\n",
       "    <tr>\n",
       "      <th>2</th>\n",
       "      <td>737265056</td>\n",
       "      <td>737265056</td>\n",
       "      <td>5000</td>\n",
       "      <td>5000.0</td>\n",
       "      <td>2016-11-08T09:18:39</td>\n",
       "      <td>7.47</td>\n",
       "      <td>Play Store</td>\n",
       "      <td>US</td>\n",
       "      <td>US</td>\n",
       "      <td>09</td>\n",
       "      <td>...</td>\n",
       "      <td></td>\n",
       "      <td>0.0</td>\n",
       "      <td></td>\n",
       "      <td></td>\n",
       "      <td></td>\n",
       "      <td>False</td>\n",
       "      <td></td>\n",
       "      <td></td>\n",
       "      <td>False</td>\n",
       "      <td>False</td>\n",
       "    </tr>\n",
       "    <tr>\n",
       "      <th>3</th>\n",
       "      <td>737265056</td>\n",
       "      <td>737265056</td>\n",
       "      <td>5000</td>\n",
       "      <td>5000.0</td>\n",
       "      <td>2016-12-10T02:14:50</td>\n",
       "      <td>7.47</td>\n",
       "      <td>Play Store</td>\n",
       "      <td>US</td>\n",
       "      <td>US</td>\n",
       "      <td>09</td>\n",
       "      <td>...</td>\n",
       "      <td></td>\n",
       "      <td>0.0</td>\n",
       "      <td></td>\n",
       "      <td></td>\n",
       "      <td></td>\n",
       "      <td>False</td>\n",
       "      <td></td>\n",
       "      <td></td>\n",
       "      <td>False</td>\n",
       "      <td>False</td>\n",
       "    </tr>\n",
       "    <tr>\n",
       "      <th>4</th>\n",
       "      <td>830329091</td>\n",
       "      <td>830329091</td>\n",
       "      <td>5000</td>\n",
       "      <td>5000.0</td>\n",
       "      <td>2016-03-24T21:04:46</td>\n",
       "      <td>71.18</td>\n",
       "      <td>Tim Hortons #947751</td>\n",
       "      <td>US</td>\n",
       "      <td>US</td>\n",
       "      <td>02</td>\n",
       "      <td>...</td>\n",
       "      <td></td>\n",
       "      <td>0.0</td>\n",
       "      <td></td>\n",
       "      <td></td>\n",
       "      <td></td>\n",
       "      <td>True</td>\n",
       "      <td></td>\n",
       "      <td></td>\n",
       "      <td>False</td>\n",
       "      <td>False</td>\n",
       "    </tr>\n",
       "  </tbody>\n",
       "</table>\n",
       "<p>5 rows × 29 columns</p>\n",
       "</div>"
      ],
      "text/plain": [
       "   accountNumber  customerId  creditLimit  availableMoney   \n",
       "0      737265056   737265056         5000          5000.0  \\\n",
       "1      737265056   737265056         5000          5000.0   \n",
       "2      737265056   737265056         5000          5000.0   \n",
       "3      737265056   737265056         5000          5000.0   \n",
       "4      830329091   830329091         5000          5000.0   \n",
       "\n",
       "   transactionDateTime  transactionAmount         merchantName acqCountry   \n",
       "0  2016-08-13T14:27:32              98.55                 Uber         US  \\\n",
       "1  2016-10-11T05:05:54              74.51          AMC #191138         US   \n",
       "2  2016-11-08T09:18:39               7.47           Play Store         US   \n",
       "3  2016-12-10T02:14:50               7.47           Play Store         US   \n",
       "4  2016-03-24T21:04:46              71.18  Tim Hortons #947751         US   \n",
       "\n",
       "  merchantCountryCode posEntryMode  ... echoBuffer currentBalance   \n",
       "0                  US           02  ...                       0.0  \\\n",
       "1                  US           09  ...                       0.0   \n",
       "2                  US           09  ...                       0.0   \n",
       "3                  US           09  ...                       0.0   \n",
       "4                  US           02  ...                       0.0   \n",
       "\n",
       "  merchantCity merchantState merchantZip  cardPresent  posOnPremises   \n",
       "0                                               False                 \\\n",
       "1                                                True                  \n",
       "2                                               False                  \n",
       "3                                               False                  \n",
       "4                                                True                  \n",
       "\n",
       "   recurringAuthInd expirationDateKeyInMatch isFraud  \n",
       "0                                      False   False  \n",
       "1                                      False   False  \n",
       "2                                      False   False  \n",
       "3                                      False   False  \n",
       "4                                      False   False  \n",
       "\n",
       "[5 rows x 29 columns]"
      ]
     },
     "execution_count": 2,
     "metadata": {},
     "output_type": "execute_result"
    }
   ],
   "source": [
    "df = pd.read_json('transactions.txt', lines=True)\n",
    "df.head()"
   ]
  },
  {
   "cell_type": "code",
   "execution_count": 4,
   "metadata": {},
   "outputs": [
    {
     "name": "stdout",
     "output_type": "stream",
     "text": [
      "<class 'pandas.core.frame.DataFrame'>\n",
      "RangeIndex: 786363 entries, 0 to 786362\n",
      "Data columns (total 29 columns):\n",
      " #   Column                    Non-Null Count   Dtype  \n",
      "---  ------                    --------------   -----  \n",
      " 0   accountNumber             786363 non-null  int64  \n",
      " 1   customerId                786363 non-null  int64  \n",
      " 2   creditLimit               786363 non-null  int64  \n",
      " 3   availableMoney            786363 non-null  float64\n",
      " 4   transactionDateTime       786363 non-null  object \n",
      " 5   transactionAmount         786363 non-null  float64\n",
      " 6   merchantName              786363 non-null  object \n",
      " 7   acqCountry                786363 non-null  object \n",
      " 8   merchantCountryCode       786363 non-null  object \n",
      " 9   posEntryMode              786363 non-null  object \n",
      " 10  posConditionCode          786363 non-null  object \n",
      " 11  merchantCategoryCode      786363 non-null  object \n",
      " 12  currentExpDate            786363 non-null  object \n",
      " 13  accountOpenDate           786363 non-null  object \n",
      " 14  dateOfLastAddressChange   786363 non-null  object \n",
      " 15  cardCVV                   786363 non-null  int64  \n",
      " 16  enteredCVV                786363 non-null  int64  \n",
      " 17  cardLast4Digits           786363 non-null  int64  \n",
      " 18  transactionType           786363 non-null  object \n",
      " 19  echoBuffer                786363 non-null  object \n",
      " 20  currentBalance            786363 non-null  float64\n",
      " 21  merchantCity              786363 non-null  object \n",
      " 22  merchantState             786363 non-null  object \n",
      " 23  merchantZip               786363 non-null  object \n",
      " 24  cardPresent               786363 non-null  bool   \n",
      " 25  posOnPremises             786363 non-null  object \n",
      " 26  recurringAuthInd          786363 non-null  object \n",
      " 27  expirationDateKeyInMatch  786363 non-null  bool   \n",
      " 28  isFraud                   786363 non-null  bool   \n",
      "dtypes: bool(3), float64(3), int64(6), object(17)\n",
      "memory usage: 158.2+ MB\n"
     ]
    }
   ],
   "source": [
    "df.info()"
   ]
  },
  {
   "cell_type": "markdown",
   "metadata": {},
   "source": [
    "### Check missing values"
   ]
  },
  {
   "cell_type": "code",
   "execution_count": 5,
   "metadata": {},
   "outputs": [
    {
     "name": "stdout",
     "output_type": "stream",
     "text": [
      "accountNumber: 0\n",
      "customerId: 0\n",
      "creditLimit: 0\n",
      "availableMoney: 0\n",
      "transactionDateTime: 0\n",
      "transactionAmount: 0\n",
      "merchantName: 0\n",
      "acqCountry: 4562\n",
      "merchantCountryCode: 724\n",
      "posEntryMode: 4054\n",
      "posConditionCode: 409\n",
      "merchantCategoryCode: 0\n",
      "currentExpDate: 0\n",
      "accountOpenDate: 0\n",
      "dateOfLastAddressChange: 0\n",
      "cardCVV: 0\n",
      "enteredCVV: 0\n",
      "cardLast4Digits: 0\n",
      "transactionType: 698\n",
      "echoBuffer: 786363\n",
      "currentBalance: 0\n",
      "merchantCity: 786363\n",
      "merchantState: 786363\n",
      "merchantZip: 786363\n",
      "cardPresent: 0\n",
      "posOnPremises: 786363\n",
      "recurringAuthInd: 786363\n",
      "expirationDateKeyInMatch: 0\n",
      "isFraud: 0\n"
     ]
    }
   ],
   "source": [
    "for col in df.columns:\n",
    "    print(f\"{col}: {len(df[df[col] == ''][col])}\")"
   ]
  },
  {
   "cell_type": "code",
   "execution_count": 6,
   "metadata": {},
   "outputs": [
    {
     "name": "stdout",
     "output_type": "stream",
     "text": [
      "accountNumber: 0\n",
      "customerId: 0\n",
      "creditLimit: 0\n",
      "availableMoney: 0\n",
      "transactionDateTime: 0\n",
      "transactionAmount: 0\n",
      "merchantName: 0\n",
      "acqCountry: 0\n",
      "merchantCountryCode: 0\n",
      "posEntryMode: 0\n",
      "posConditionCode: 0\n",
      "merchantCategoryCode: 0\n",
      "currentExpDate: 0\n",
      "accountOpenDate: 0\n",
      "dateOfLastAddressChange: 0\n",
      "cardCVV: 0\n",
      "enteredCVV: 0\n",
      "cardLast4Digits: 0\n",
      "transactionType: 0\n",
      "echoBuffer: 0\n",
      "currentBalance: 0\n",
      "merchantCity: 0\n",
      "merchantState: 0\n",
      "merchantZip: 0\n",
      "cardPresent: 0\n",
      "posOnPremises: 0\n",
      "recurringAuthInd: 0\n",
      "expirationDateKeyInMatch: 0\n",
      "isFraud: 0\n"
     ]
    }
   ],
   "source": [
    "for col in df.columns:\n",
    "    if any(df[col] == ''):\n",
    "        df.loc[df[col] == '', col] = np.nan\n",
    "    print(f\"{col}: {len(df[df[col] == ''][col])}\")"
   ]
  },
  {
   "cell_type": "code",
   "execution_count": 7,
   "metadata": {},
   "outputs": [
    {
     "data": {
      "image/png": "[encoded data removed]",
      "text/plain": [
       "<Figure size 1000x600 with 1 Axes>"
      ]
     },
     "metadata": {},
     "output_type": "display_data"
    }
   ],
   "source": [
    "fig, ax = plt.subplots(figsize=(10,6))\n",
    "msno.matrix(df, ax=ax, sparkline=False)\n",
    "ax.set_title('Missing Values Matrix Plot', fontsize=24, fontweight='semibold')\n",
    "plt.show()"
   ]
  },
  {
   "cell_type": "code",
   "execution_count": 8,
   "metadata": {},
   "outputs": [],
   "source": [
    "# fig.savefig('missing_values.png')"
   ]
  },
  {
   "cell_type": "code",
   "execution_count": 10,
   "metadata": {},
   "outputs": [
    {
     "data": {
      "text/plain": [
       "recurringAuthInd            786363\n",
       "posOnPremises               786363\n",
       "merchantZip                 786363\n",
       "merchantState               786363\n",
       "merchantCity                786363\n",
       "echoBuffer                  786363\n",
       "acqCountry                    4562\n",
       "posEntryMode                  4054\n",
       "merchantCountryCode            724\n",
       "transactionType                698\n",
       "posConditionCode               409\n",
       "accountNumber                    0\n",
       "cardLast4Digits                  0\n",
       "expirationDateKeyInMatch         0\n",
       "cardPresent                      0\n",
       "currentBalance                   0\n",
       "dateOfLastAddressChange          0\n",
       "enteredCVV                       0\n",
       "cardCVV                          0\n",
       "customerId                       0\n",
       "accountOpenDate                  0\n",
       "currentExpDate                   0\n",
       "merchantCategoryCode             0\n",
       "merchantName                     0\n",
       "transactionAmount                0\n",
       "transactionDateTime              0\n",
       "availableMoney                   0\n",
       "creditLimit                      0\n",
       "isFraud                          0\n",
       "dtype: int64"
      ]
     },
     "execution_count": 10,
     "metadata": {},
     "output_type": "execute_result"
    }
   ],
   "source": [
    "df.isnull().sum().sort_values(ascending=False)"
   ]
  },
  {
   "cell_type": "markdown",
   "metadata": {},
   "source": [
    "### Drop features with all missing values"
   ]
  },
  {
   "cell_type": "code",
   "execution_count": 14,
   "metadata": {},
   "outputs": [],
   "source": [
    "df.drop(columns=['echoBuffer', 'merchantCity', 'merchantState', 'merchantZip', 'posOnPremises', 'recurringAuthInd'], inplace=True)"
   ]
  },
  {
   "cell_type": "code",
   "execution_count": 15,
   "metadata": {},
   "outputs": [
    {
     "data": {
      "text/plain": [
       "array(['PURCHASE', 'ADDRESS_VERIFICATION', 'REVERSAL', nan], dtype=object)"
      ]
     },
     "execution_count": 15,
     "metadata": {},
     "output_type": "execute_result"
    }
   ],
   "source": [
    "df.transactionType.unique()"
   ]
  },
  {
   "cell_type": "markdown",
   "metadata": {},
   "source": [
    "### Fill missing values for \"acqCountry\" by grouping with \"merchantCountryCode\""
   ]
  },
  {
   "cell_type": "code",
   "execution_count": 16,
   "metadata": {},
   "outputs": [
    {
     "name": "stdout",
     "output_type": "stream",
     "text": [
      "781731\n",
      "70\n",
      "99.99% of records have the same value for \"acqCountry\" and \"merchantCountryCode\"\n"
     ]
    }
   ],
   "source": [
    "len_same = len(df.loc[np.where((df.acqCountry == df.merchantCountryCode))])\n",
    "len_diff = len(df.loc[np.where((df.acqCountry != df.merchantCountryCode) & ~(df.acqCountry.isna()))])\n",
    "print(len_same)\n",
    "print(len_diff)\n",
    "\n",
    "print(f'{np.round(len_same / (len_same + len_diff)*100, 2)}% of records have the same value for \"acqCountry\" and \"merchantCountryCode\"')"
   ]
  },
  {
   "cell_type": "code",
   "execution_count": 17,
   "metadata": {},
   "outputs": [
    {
     "data": {
      "text/plain": [
       "accountNumber                  0\n",
       "customerId                     0\n",
       "creditLimit                    0\n",
       "availableMoney                 0\n",
       "transactionDateTime            0\n",
       "transactionAmount              0\n",
       "merchantName                   0\n",
       "acqCountry                   724\n",
       "merchantCountryCode          724\n",
       "posEntryMode                4054\n",
       "posConditionCode             409\n",
       "merchantCategoryCode           0\n",
       "currentExpDate                 0\n",
       "accountOpenDate                0\n",
       "dateOfLastAddressChange        0\n",
       "cardCVV                        0\n",
       "enteredCVV                     0\n",
       "cardLast4Digits                0\n",
       "transactionType              698\n",
       "currentBalance                 0\n",
       "cardPresent                    0\n",
       "expirationDateKeyInMatch       0\n",
       "isFraud                        0\n",
       "dtype: int64"
      ]
     },
     "execution_count": 17,
     "metadata": {},
     "output_type": "execute_result"
    }
   ],
   "source": [
    "df.loc[:, 'acqCountry'] = df.groupby('merchantCountryCode')['acqCountry'].transform(lambda x: x.fillna(x.mode()[0]) if not x.mode().empty else x.iloc[0])\n",
    "df.isnull().sum()"
   ]
  },
  {
   "cell_type": "markdown",
   "metadata": {},
   "source": [
    "### Fill in remaining missing values using SimpleImputer"
   ]
  },
  {
   "cell_type": "code",
   "execution_count": 18,
   "metadata": {},
   "outputs": [],
   "source": [
    "missing_features = df.columns[df.isna().any()].tolist()\n",
    "imputer = SimpleImputer(strategy='most_frequent')\n",
    "df2 = df.copy()\n",
    "df2.loc[:, missing_features] = pd.DataFrame(imputer.fit_transform(df2[missing_features]), columns=missing_features)"
   ]
  },
  {
   "cell_type": "code",
   "execution_count": 19,
   "metadata": {},
   "outputs": [
    {
     "data": {
      "text/plain": [
       "accountNumber               0\n",
       "customerId                  0\n",
       "creditLimit                 0\n",
       "availableMoney              0\n",
       "transactionDateTime         0\n",
       "transactionAmount           0\n",
       "merchantName                0\n",
       "acqCountry                  0\n",
       "merchantCountryCode         0\n",
       "posEntryMode                0\n",
       "posConditionCode            0\n",
       "merchantCategoryCode        0\n",
       "currentExpDate              0\n",
       "accountOpenDate             0\n",
       "dateOfLastAddressChange     0\n",
       "cardCVV                     0\n",
       "enteredCVV                  0\n",
       "cardLast4Digits             0\n",
       "transactionType             0\n",
       "currentBalance              0\n",
       "cardPresent                 0\n",
       "expirationDateKeyInMatch    0\n",
       "isFraud                     0\n",
       "dtype: int64"
      ]
     },
     "execution_count": 19,
     "metadata": {},
     "output_type": "execute_result"
    }
   ],
   "source": [
    "df2.isnull().sum()"
   ]
  },
  {
   "cell_type": "markdown",
   "metadata": {},
   "source": [
    "## Feature Extraction"
   ]
  },
  {
   "cell_type": "markdown",
   "metadata": {},
   "source": [
    "### Converting date columns into datetime format"
   ]
  },
  {
   "cell_type": "code",
   "execution_count": 20,
   "metadata": {},
   "outputs": [
    {
     "name": "stderr",
     "output_type": "stream",
     "text": [
      "/tmp/ipykernel_23637/1743560075.py:4: UserWarning: Could not infer format, so each element will be parsed individually, falling back to `dateutil`. To ensure parsing is consistent and as-expected, please specify a format.\n",
      "  df2['currentExpDate'] = pd.to_datetime(df2.currentExpDate, errors='coerce')\n"
     ]
    }
   ],
   "source": [
    "df2['transactionDateTime'] = pd.to_datetime(df2['transactionDateTime'], errors='coerce')\n",
    "df2['accountOpenDate'] = pd.to_datetime(df2['accountOpenDate'], errors='coerce')\n",
    "df2['dateOfLastAddressChange'] = pd.to_datetime(df2['dateOfLastAddressChange'], errors='coerce')\n",
    "df2['currentExpDate'] = pd.to_datetime(df2.currentExpDate, errors='coerce')"
   ]
  },
  {
   "cell_type": "markdown",
   "metadata": {},
   "source": [
    "### Getting the day name of transactions"
   ]
  },
  {
   "cell_type": "code",
   "execution_count": 21,
   "metadata": {},
   "outputs": [
    {
     "data": {
      "text/plain": [
       "0    Saturday\n",
       "1     Tuesday\n",
       "2     Tuesday\n",
       "3    Saturday\n",
       "4    Thursday\n",
       "Name: trans_day_name, dtype: object"
      ]
     },
     "execution_count": 21,
     "metadata": {},
     "output_type": "execute_result"
    }
   ],
   "source": [
    "df2['trans_day_name'] = df2.transactionDateTime.apply(lambda x: datetime.strftime(x, '%A'))\n",
    "df2['trans_day_name'].head()\n"
   ]
  },
  {
   "cell_type": "code",
   "execution_count": 23,
   "metadata": {},
   "outputs": [
    {
     "data": {
      "text/html": [
       "<div>\n",
       "<style scoped>\n",
       "    .dataframe tbody tr th:only-of-type {\n",
       "        vertical-align: middle;\n",
       "    }\n",
       "\n",
       "    .dataframe tbody tr th {\n",
       "        vertical-align: top;\n",
       "    }\n",
       "\n",
       "    .dataframe thead th {\n",
       "        text-align: right;\n",
       "    }\n",
       "</style>\n",
       "<table border=\"1\" class=\"dataframe\">\n",
       "  <thead>\n",
       "    <tr style=\"text-align: right;\">\n",
       "      <th></th>\n",
       "      <th>trans_month</th>\n",
       "      <th>trans_month_name</th>\n",
       "    </tr>\n",
       "  </thead>\n",
       "  <tbody>\n",
       "    <tr>\n",
       "      <th>0</th>\n",
       "      <td>8</td>\n",
       "      <td>Aug</td>\n",
       "    </tr>\n",
       "    <tr>\n",
       "      <th>1</th>\n",
       "      <td>10</td>\n",
       "      <td>Oct</td>\n",
       "    </tr>\n",
       "    <tr>\n",
       "      <th>2</th>\n",
       "      <td>11</td>\n",
       "      <td>Nov</td>\n",
       "    </tr>\n",
       "    <tr>\n",
       "      <th>3</th>\n",
       "      <td>12</td>\n",
       "      <td>Dec</td>\n",
       "    </tr>\n",
       "    <tr>\n",
       "      <th>4</th>\n",
       "      <td>3</td>\n",
       "      <td>Mar</td>\n",
       "    </tr>\n",
       "  </tbody>\n",
       "</table>\n",
       "</div>"
      ],
      "text/plain": [
       "   trans_month trans_month_name\n",
       "0            8              Aug\n",
       "1           10              Oct\n",
       "2           11              Nov\n",
       "3           12              Dec\n",
       "4            3              Mar"
      ]
     },
     "execution_count": 23,
     "metadata": {},
     "output_type": "execute_result"
    }
   ],
   "source": [
    "df2['trans_month'] = df2.transactionDateTime.apply(lambda x: int(datetime.strftime(x, '%m')))\n",
    "df2['trans_month_name'] = df2.transactionDateTime.apply(lambda x: datetime.strftime(x, '%b'))\n",
    "df2[['trans_month', 'trans_month_name']].head()"
   ]
  },
  {
   "cell_type": "code",
   "execution_count": 24,
   "metadata": {},
   "outputs": [
    {
     "data": {
      "text/html": [
       "<div>\n",
       "<style scoped>\n",
       "    .dataframe tbody tr th:only-of-type {\n",
       "        vertical-align: middle;\n",
       "    }\n",
       "\n",
       "    .dataframe tbody tr th {\n",
       "        vertical-align: top;\n",
       "    }\n",
       "\n",
       "    .dataframe thead th {\n",
       "        text-align: right;\n",
       "    }\n",
       "</style>\n",
       "<table border=\"1\" class=\"dataframe\">\n",
       "  <thead>\n",
       "    <tr style=\"text-align: right;\">\n",
       "      <th></th>\n",
       "      <th>transactionDateTime</th>\n",
       "      <th>trans_hour</th>\n",
       "    </tr>\n",
       "  </thead>\n",
       "  <tbody>\n",
       "    <tr>\n",
       "      <th>0</th>\n",
       "      <td>2016-08-13 14:27:32</td>\n",
       "      <td>14</td>\n",
       "    </tr>\n",
       "    <tr>\n",
       "      <th>1</th>\n",
       "      <td>2016-10-11 05:05:54</td>\n",
       "      <td>05</td>\n",
       "    </tr>\n",
       "    <tr>\n",
       "      <th>2</th>\n",
       "      <td>2016-11-08 09:18:39</td>\n",
       "      <td>09</td>\n",
       "    </tr>\n",
       "    <tr>\n",
       "      <th>3</th>\n",
       "      <td>2016-12-10 02:14:50</td>\n",
       "      <td>02</td>\n",
       "    </tr>\n",
       "    <tr>\n",
       "      <th>4</th>\n",
       "      <td>2016-03-24 21:04:46</td>\n",
       "      <td>21</td>\n",
       "    </tr>\n",
       "  </tbody>\n",
       "</table>\n",
       "</div>"
      ],
      "text/plain": [
       "  transactionDateTime trans_hour\n",
       "0 2016-08-13 14:27:32         14\n",
       "1 2016-10-11 05:05:54         05\n",
       "2 2016-11-08 09:18:39         09\n",
       "3 2016-12-10 02:14:50         02\n",
       "4 2016-03-24 21:04:46         21"
      ]
     },
     "execution_count": 24,
     "metadata": {},
     "output_type": "execute_result"
    }
   ],
   "source": [
    "df2['trans_hour'] = df2.transactionDateTime.apply(lambda x: datetime.strftime(x, '%H'))\n",
    "df2[['transactionDateTime', 'trans_hour']].head()"
   ]
  },
  {
   "cell_type": "code",
   "execution_count": 26,
   "metadata": {},
   "outputs": [
    {
     "name": "stdout",
     "output_type": "stream",
     "text": [
      "\\begin{tabular}{llrll}\n",
      "\\toprule\n",
      " & transactionDateTime & trans_month & trans_day_name & trans_hour \\\\\n",
      "\\midrule\n",
      "0 & 2016-08-13 14:27:32 & 8 & Saturday & 14 \\\\\n",
      "1 & 2016-10-11 05:05:54 & 10 & Tuesday & 05 \\\\\n",
      "2 & 2016-11-08 09:18:39 & 11 & Tuesday & 09 \\\\\n",
      "3 & 2016-12-10 02:14:50 & 12 & Saturday & 02 \\\\\n",
      "4 & 2016-03-24 21:04:46 & 3 & Thursday & 21 \\\\\n",
      "\\bottomrule\n",
      "\\end{tabular}\n",
      "\n"
     ]
    }
   ],
   "source": [
    "print(df2[['transactionDateTime', 'trans_month', 'trans_day_name', 'trans_hour']].head().to_latex())"
   ]
  },
  {
   "cell_type": "code",
   "execution_count": 27,
   "metadata": {},
   "outputs": [
    {
     "data": {
      "text/plain": [
       "0          518\n",
       "1          577\n",
       "2          605\n",
       "3          637\n",
       "4          231\n",
       "          ... \n",
       "786358    1582\n",
       "786359    1585\n",
       "786360    1587\n",
       "786361    1589\n",
       "786362    1590\n",
       "Name: trans_day_addr_change_diff, Length: 786363, dtype: int64"
      ]
     },
     "execution_count": 27,
     "metadata": {},
     "output_type": "execute_result"
    }
   ],
   "source": [
    "df2['trans_day_addr_change_diff'] = (df2.transactionDateTime - df2.dateOfLastAddressChange).dt.days\n",
    "df2['trans_day_addr_change_diff']"
   ]
  },
  {
   "cell_type": "code",
   "execution_count": 32,
   "metadata": {},
   "outputs": [
    {
     "data": {
      "text/plain": [
       "0          518\n",
       "1          577\n",
       "2          605\n",
       "3          637\n",
       "4          231\n",
       "          ... \n",
       "786358    1582\n",
       "786359    1585\n",
       "786360    1587\n",
       "786361    1589\n",
       "786362    1590\n",
       "Name: trans_day_open_date_diff, Length: 786363, dtype: int64"
      ]
     },
     "execution_count": 32,
     "metadata": {},
     "output_type": "execute_result"
    }
   ],
   "source": [
    "df2['trans_day_open_date_diff'] = (df2.transactionDateTime - df2.accountOpenDate).dt.days\n",
    "df2['trans_day_open_date_diff']"
   ]
  },
  {
   "cell_type": "code",
   "execution_count": 29,
   "metadata": {},
   "outputs": [
    {
     "data": {
      "text/plain": [
       "0    2482\n",
       "1    2668\n",
       "2    3187\n",
       "3    3155\n",
       "4    4938\n",
       "Name: exp_trans_day_diff, dtype: int64"
      ]
     },
     "execution_count": 29,
     "metadata": {},
     "output_type": "execute_result"
    }
   ],
   "source": [
    "df2['exp_trans_day_diff'] = (df2.currentExpDate - df2.transactionDateTime).dt.days\n",
    "df2['exp_trans_day_diff'].head()"
   ]
  },
  {
   "cell_type": "code",
   "execution_count": 34,
   "metadata": {},
   "outputs": [
    {
     "data": {
      "text/html": [
       "<div>\n",
       "<style scoped>\n",
       "    .dataframe tbody tr th:only-of-type {\n",
       "        vertical-align: middle;\n",
       "    }\n",
       "\n",
       "    .dataframe tbody tr th {\n",
       "        vertical-align: top;\n",
       "    }\n",
       "\n",
       "    .dataframe thead th {\n",
       "        text-align: right;\n",
       "    }\n",
       "</style>\n",
       "<table border=\"1\" class=\"dataframe\">\n",
       "  <thead>\n",
       "    <tr style=\"text-align: right;\">\n",
       "      <th></th>\n",
       "      <th>transactionDateTime</th>\n",
       "      <th>dateOfLastAddressChange</th>\n",
       "      <th>accountOpenDate</th>\n",
       "      <th>trans_day_addr_change_diff</th>\n",
       "      <th>trans_day_open_date_diff</th>\n",
       "      <th>exp_trans_day_diff</th>\n",
       "    </tr>\n",
       "  </thead>\n",
       "  <tbody>\n",
       "    <tr>\n",
       "      <th>0</th>\n",
       "      <td>2016-08-13 14:27:32</td>\n",
       "      <td>2015-03-14</td>\n",
       "      <td>2015-03-14</td>\n",
       "      <td>518</td>\n",
       "      <td>518</td>\n",
       "      <td>2482</td>\n",
       "    </tr>\n",
       "    <tr>\n",
       "      <th>1</th>\n",
       "      <td>2016-10-11 05:05:54</td>\n",
       "      <td>2015-03-14</td>\n",
       "      <td>2015-03-14</td>\n",
       "      <td>577</td>\n",
       "      <td>577</td>\n",
       "      <td>2668</td>\n",
       "    </tr>\n",
       "    <tr>\n",
       "      <th>2</th>\n",
       "      <td>2016-11-08 09:18:39</td>\n",
       "      <td>2015-03-14</td>\n",
       "      <td>2015-03-14</td>\n",
       "      <td>605</td>\n",
       "      <td>605</td>\n",
       "      <td>3187</td>\n",
       "    </tr>\n",
       "    <tr>\n",
       "      <th>3</th>\n",
       "      <td>2016-12-10 02:14:50</td>\n",
       "      <td>2015-03-14</td>\n",
       "      <td>2015-03-14</td>\n",
       "      <td>637</td>\n",
       "      <td>637</td>\n",
       "      <td>3155</td>\n",
       "    </tr>\n",
       "    <tr>\n",
       "      <th>4</th>\n",
       "      <td>2016-03-24 21:04:46</td>\n",
       "      <td>2015-08-06</td>\n",
       "      <td>2015-08-06</td>\n",
       "      <td>231</td>\n",
       "      <td>231</td>\n",
       "      <td>4938</td>\n",
       "    </tr>\n",
       "  </tbody>\n",
       "</table>\n",
       "</div>"
      ],
      "text/plain": [
       "  transactionDateTime dateOfLastAddressChange accountOpenDate   \n",
       "0 2016-08-13 14:27:32              2015-03-14      2015-03-14  \\\n",
       "1 2016-10-11 05:05:54              2015-03-14      2015-03-14   \n",
       "2 2016-11-08 09:18:39              2015-03-14      2015-03-14   \n",
       "3 2016-12-10 02:14:50              2015-03-14      2015-03-14   \n",
       "4 2016-03-24 21:04:46              2015-08-06      2015-08-06   \n",
       "\n",
       "   trans_day_addr_change_diff  trans_day_open_date_diff  exp_trans_day_diff  \n",
       "0                         518                       518                2482  \n",
       "1                         577                       577                2668  \n",
       "2                         605                       605                3187  \n",
       "3                         637                       637                3155  \n",
       "4                         231                       231                4938  "
      ]
     },
     "execution_count": 34,
     "metadata": {},
     "output_type": "execute_result"
    }
   ],
   "source": [
    "df2[['transactionDateTime', 'dateOfLastAddressChange', 'accountOpenDate', 'trans_day_addr_change_diff', 'trans_day_open_date_diff', 'exp_trans_day_diff']].head()"
   ]
  },
  {
   "cell_type": "code",
   "execution_count": 35,
   "metadata": {},
   "outputs": [
    {
     "name": "stdout",
     "output_type": "stream",
     "text": [
      "\\begin{tabular}{llllrrr}\n",
      "\\toprule\n",
      " & transactionDateTime & dateOfLastAddressChange & accountOpenDate & trans_day_addr_change_diff & trans_day_open_date_diff & exp_trans_day_diff \\\\\n",
      "\\midrule\n",
      "0 & 2016-08-13 14:27:32 & 2015-03-14 00:00:00 & 2015-03-14 00:00:00 & 518 & 518 & 2482 \\\\\n",
      "1 & 2016-10-11 05:05:54 & 2015-03-14 00:00:00 & 2015-03-14 00:00:00 & 577 & 577 & 2668 \\\\\n",
      "2 & 2016-11-08 09:18:39 & 2015-03-14 00:00:00 & 2015-03-14 00:00:00 & 605 & 605 & 3187 \\\\\n",
      "3 & 2016-12-10 02:14:50 & 2015-03-14 00:00:00 & 2015-03-14 00:00:00 & 637 & 637 & 3155 \\\\\n",
      "4 & 2016-03-24 21:04:46 & 2015-08-06 00:00:00 & 2015-08-06 00:00:00 & 231 & 231 & 4938 \\\\\n",
      "\\bottomrule\n",
      "\\end{tabular}\n",
      "\n"
     ]
    }
   ],
   "source": [
    "print(df2[['transactionDateTime', 'dateOfLastAddressChange', 'accountOpenDate', 'trans_day_addr_change_diff', 'trans_day_open_date_diff', 'exp_trans_day_diff']].head().to_latex())"
   ]
  },
  {
   "cell_type": "code",
   "execution_count": 40,
   "metadata": {},
   "outputs": [
    {
     "data": {
      "text/plain": [
       "0          6\n",
       "1          2\n",
       "2          8\n",
       "3          8\n",
       "4         10\n",
       "          ..\n",
       "786358    12\n",
       "786359     8\n",
       "786360     8\n",
       "786361     7\n",
       "786362     5\n",
       "Name: currentExpDate, Length: 786363, dtype: int64"
      ]
     },
     "execution_count": 40,
     "metadata": {},
     "output_type": "execute_result"
    }
   ],
   "source": [
    "df2.currentExpDate.apply(lambda x:int(datetime.strftime(x, '%m')))"
   ]
  },
  {
   "cell_type": "code",
   "execution_count": 42,
   "metadata": {},
   "outputs": [
    {
     "data": {
      "text/plain": [
       "0    2023\n",
       "1    2024\n",
       "2    2025\n",
       "3    2025\n",
       "4    2029\n",
       "5    2020\n",
       "6    2020\n",
       "7    2021\n",
       "8    2032\n",
       "9    2020\n",
       "Name: currentExpDate, dtype: int64"
      ]
     },
     "execution_count": 42,
     "metadata": {},
     "output_type": "execute_result"
    }
   ],
   "source": [
    "df2.currentExpDate[:10].apply(lambda x:int(datetime.strftime(x, '%Y')))"
   ]
  },
  {
   "cell_type": "code",
   "execution_count": 43,
   "metadata": {},
   "outputs": [
    {
     "data": {
      "text/html": [
       "<div>\n",
       "<style scoped>\n",
       "    .dataframe tbody tr th:only-of-type {\n",
       "        vertical-align: middle;\n",
       "    }\n",
       "\n",
       "    .dataframe tbody tr th {\n",
       "        vertical-align: top;\n",
       "    }\n",
       "\n",
       "    .dataframe thead th {\n",
       "        text-align: right;\n",
       "    }\n",
       "</style>\n",
       "<table border=\"1\" class=\"dataframe\">\n",
       "  <thead>\n",
       "    <tr style=\"text-align: right;\">\n",
       "      <th></th>\n",
       "      <th>currentExpDate</th>\n",
       "      <th>exp_month</th>\n",
       "      <th>exp_year</th>\n",
       "    </tr>\n",
       "  </thead>\n",
       "  <tbody>\n",
       "    <tr>\n",
       "      <th>0</th>\n",
       "      <td>2023-06-01</td>\n",
       "      <td>6</td>\n",
       "      <td>2023</td>\n",
       "    </tr>\n",
       "    <tr>\n",
       "      <th>1</th>\n",
       "      <td>2024-02-01</td>\n",
       "      <td>2</td>\n",
       "      <td>2024</td>\n",
       "    </tr>\n",
       "    <tr>\n",
       "      <th>2</th>\n",
       "      <td>2025-08-01</td>\n",
       "      <td>8</td>\n",
       "      <td>2025</td>\n",
       "    </tr>\n",
       "    <tr>\n",
       "      <th>3</th>\n",
       "      <td>2025-08-01</td>\n",
       "      <td>8</td>\n",
       "      <td>2025</td>\n",
       "    </tr>\n",
       "    <tr>\n",
       "      <th>4</th>\n",
       "      <td>2029-10-01</td>\n",
       "      <td>10</td>\n",
       "      <td>2029</td>\n",
       "    </tr>\n",
       "  </tbody>\n",
       "</table>\n",
       "</div>"
      ],
      "text/plain": [
       "  currentExpDate  exp_month  exp_year\n",
       "0     2023-06-01          6      2023\n",
       "1     2024-02-01          2      2024\n",
       "2     2025-08-01          8      2025\n",
       "3     2025-08-01          8      2025\n",
       "4     2029-10-01         10      2029"
      ]
     },
     "execution_count": 43,
     "metadata": {},
     "output_type": "execute_result"
    }
   ],
   "source": [
    "df2['exp_month'] = df2.currentExpDate.apply(lambda x:int(datetime.strftime(x, '%m')))\n",
    "df2['exp_year'] = df2.currentExpDate.apply(lambda x:int(datetime.strftime(x, '%Y')))\n",
    "df2[['currentExpDate', 'exp_month', 'exp_year']].head()"
   ]
  },
  {
   "cell_type": "code",
   "execution_count": 45,
   "metadata": {},
   "outputs": [
    {
     "data": {
      "text/plain": [
       "matchingCVV\n",
       "True     779348\n",
       "False      7015\n",
       "Name: count, dtype: int64"
      ]
     },
     "execution_count": 45,
     "metadata": {},
     "output_type": "execute_result"
    }
   ],
   "source": [
    "df2['matchingCVV'] = df2.cardCVV == df2.enteredCVV\n",
    "df2.matchingCVV.value_counts()"
   ]
  },
  {
   "cell_type": "code",
   "execution_count": 46,
   "metadata": {},
   "outputs": [
    {
     "data": {
      "text/html": [
       "<div>\n",
       "<style scoped>\n",
       "    .dataframe tbody tr th:only-of-type {\n",
       "        vertical-align: middle;\n",
       "    }\n",
       "\n",
       "    .dataframe tbody tr th {\n",
       "        vertical-align: top;\n",
       "    }\n",
       "\n",
       "    .dataframe thead th {\n",
       "        text-align: right;\n",
       "    }\n",
       "</style>\n",
       "<table border=\"1\" class=\"dataframe\">\n",
       "  <thead>\n",
       "    <tr style=\"text-align: right;\">\n",
       "      <th></th>\n",
       "      <th>cardCVV</th>\n",
       "      <th>enteredCVV</th>\n",
       "      <th>matchingCVV</th>\n",
       "    </tr>\n",
       "  </thead>\n",
       "  <tbody>\n",
       "    <tr>\n",
       "      <th>0</th>\n",
       "      <td>414</td>\n",
       "      <td>414</td>\n",
       "      <td>True</td>\n",
       "    </tr>\n",
       "    <tr>\n",
       "      <th>1</th>\n",
       "      <td>486</td>\n",
       "      <td>486</td>\n",
       "      <td>True</td>\n",
       "    </tr>\n",
       "    <tr>\n",
       "      <th>2</th>\n",
       "      <td>486</td>\n",
       "      <td>486</td>\n",
       "      <td>True</td>\n",
       "    </tr>\n",
       "    <tr>\n",
       "      <th>3</th>\n",
       "      <td>486</td>\n",
       "      <td>486</td>\n",
       "      <td>True</td>\n",
       "    </tr>\n",
       "    <tr>\n",
       "      <th>4</th>\n",
       "      <td>885</td>\n",
       "      <td>885</td>\n",
       "      <td>True</td>\n",
       "    </tr>\n",
       "  </tbody>\n",
       "</table>\n",
       "</div>"
      ],
      "text/plain": [
       "   cardCVV  enteredCVV  matchingCVV\n",
       "0      414         414         True\n",
       "1      486         486         True\n",
       "2      486         486         True\n",
       "3      486         486         True\n",
       "4      885         885         True"
      ]
     },
     "execution_count": 46,
     "metadata": {},
     "output_type": "execute_result"
    }
   ],
   "source": [
    "df2[['cardCVV', 'enteredCVV', 'matchingCVV']].head()"
   ]
  },
  {
   "cell_type": "code",
   "execution_count": 47,
   "metadata": {},
   "outputs": [
    {
     "name": "stdout",
     "output_type": "stream",
     "text": [
      "\\begin{tabular}{lrrr}\n",
      "\\toprule\n",
      " & cardCVV & enteredCVV & matchingCVV \\\\\n",
      "\\midrule\n",
      "0 & 414 & 414 & True \\\\\n",
      "1 & 486 & 486 & True \\\\\n",
      "2 & 486 & 486 & True \\\\\n",
      "3 & 486 & 486 & True \\\\\n",
      "4 & 885 & 885 & True \\\\\n",
      "\\bottomrule\n",
      "\\end{tabular}\n",
      "\n"
     ]
    }
   ],
   "source": [
    "print(df2[['cardCVV', 'enteredCVV', 'matchingCVV']].head().to_latex())"
   ]
  },
  {
   "cell_type": "code",
   "execution_count": 48,
   "metadata": {},
   "outputs": [
    {
     "data": {
      "text/html": [
       "<div>\n",
       "<style scoped>\n",
       "    .dataframe tbody tr th:only-of-type {\n",
       "        vertical-align: middle;\n",
       "    }\n",
       "\n",
       "    .dataframe tbody tr th {\n",
       "        vertical-align: top;\n",
       "    }\n",
       "\n",
       "    .dataframe thead th {\n",
       "        text-align: right;\n",
       "    }\n",
       "</style>\n",
       "<table border=\"1\" class=\"dataframe\">\n",
       "  <thead>\n",
       "    <tr style=\"text-align: right;\">\n",
       "      <th></th>\n",
       "      <th>merchantName</th>\n",
       "      <th>brandName</th>\n",
       "    </tr>\n",
       "  </thead>\n",
       "  <tbody>\n",
       "    <tr>\n",
       "      <th>0</th>\n",
       "      <td>Uber</td>\n",
       "      <td>Uber</td>\n",
       "    </tr>\n",
       "    <tr>\n",
       "      <th>1</th>\n",
       "      <td>AMC #191138</td>\n",
       "      <td>AMC</td>\n",
       "    </tr>\n",
       "    <tr>\n",
       "      <th>2</th>\n",
       "      <td>Play Store</td>\n",
       "      <td>Play Store</td>\n",
       "    </tr>\n",
       "    <tr>\n",
       "      <th>3</th>\n",
       "      <td>Play Store</td>\n",
       "      <td>Play Store</td>\n",
       "    </tr>\n",
       "    <tr>\n",
       "      <th>4</th>\n",
       "      <td>Tim Hortons #947751</td>\n",
       "      <td>Tim Hortons</td>\n",
       "    </tr>\n",
       "    <tr>\n",
       "      <th>5</th>\n",
       "      <td>In-N-Out #422833</td>\n",
       "      <td>In-N-Out</td>\n",
       "    </tr>\n",
       "    <tr>\n",
       "      <th>6</th>\n",
       "      <td>Krispy Kreme #685312</td>\n",
       "      <td>Krispy Kreme</td>\n",
       "    </tr>\n",
       "    <tr>\n",
       "      <th>7</th>\n",
       "      <td>Shake Shack #968081</td>\n",
       "      <td>Shake Shack</td>\n",
       "    </tr>\n",
       "    <tr>\n",
       "      <th>8</th>\n",
       "      <td>Burger King #486122</td>\n",
       "      <td>Burger King</td>\n",
       "    </tr>\n",
       "    <tr>\n",
       "      <th>9</th>\n",
       "      <td>Five Guys #510989</td>\n",
       "      <td>Five Guys</td>\n",
       "    </tr>\n",
       "  </tbody>\n",
       "</table>\n",
       "</div>"
      ],
      "text/plain": [
       "           merchantName     brandName\n",
       "0                  Uber          Uber\n",
       "1           AMC #191138           AMC\n",
       "2            Play Store    Play Store\n",
       "3            Play Store    Play Store\n",
       "4   Tim Hortons #947751   Tim Hortons\n",
       "5      In-N-Out #422833      In-N-Out\n",
       "6  Krispy Kreme #685312  Krispy Kreme\n",
       "7   Shake Shack #968081   Shake Shack\n",
       "8   Burger King #486122   Burger King\n",
       "9     Five Guys #510989     Five Guys"
      ]
     },
     "execution_count": 48,
     "metadata": {},
     "output_type": "execute_result"
    }
   ],
   "source": [
    "df2['brandName'] = df2['merchantName'].apply(lambda x: x.split('#')[0].strip())\n",
    "df2[['merchantName', 'brandName']].head(10)"
   ]
  },
  {
   "cell_type": "code",
   "execution_count": 51,
   "metadata": {},
   "outputs": [
    {
     "data": {
      "text/plain": [
       "205"
      ]
     },
     "execution_count": 51,
     "metadata": {},
     "output_type": "execute_result"
    }
   ],
   "source": [
    "df2.brandName.nunique()"
   ]
  },
  {
   "cell_type": "code",
   "execution_count": 22,
   "metadata": {},
   "outputs": [],
   "source": [
    "df2.to_csv('transactions_clean.csv', index=False)"
   ]
  },
  {
   "cell_type": "code",
   "execution_count": null,
   "metadata": {},
   "outputs": [],
   "source": []
  }
 ],
 "metadata": {
  "kernelspec": {
   "display_name": "Python 3",
   "language": "python",
   "name": "python3"
  },
  "language_info": {
   "codemirror_mode": {
    "name": "ipython",
    "version": 3
   },
   "file_extension": ".py",
   "mimetype": "text/x-python",
   "name": "python",
   "nbconvert_exporter": "python",
   "pygments_lexer": "ipython3",
   "version": "3.8.10"
  },
  "orig_nbformat": 4
 },
 "nbformat": 4,
 "nbformat_minor": 2
}
